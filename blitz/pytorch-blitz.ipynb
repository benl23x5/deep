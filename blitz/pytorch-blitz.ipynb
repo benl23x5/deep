{
 "cells": [
  {
   "cell_type": "code",
   "execution_count": 226,
   "metadata": {},
   "outputs": [],
   "source": [
    "# PyTorch Tutorial 60 Minute Blitz\n",
    "import torch"
   ]
  },
  {
   "cell_type": "code",
   "execution_count": 227,
   "metadata": {},
   "outputs": [
    {
     "data": {
      "text/plain": [
       "tensor([[-3.1954e-28,  3.0723e-41,  2.9754e-28],\n",
       "        [ 3.0723e-41,  1.1210e-43,  0.0000e+00],\n",
       "        [ 8.9683e-44,  0.0000e+00,  3.1970e-28],\n",
       "        [ 3.0723e-41,  8.9683e-44,  0.0000e+00],\n",
       "        [ 0.0000e+00,  0.0000e+00,  0.0000e+00]])"
      ]
     },
     "execution_count": 227,
     "metadata": {},
     "output_type": "execute_result"
    }
   ],
   "source": [
    "# Create an uninitialized array, full of random bullshit.\n",
    "x = torch.empty(5, 3)\n",
    "x"
   ]
  },
  {
   "cell_type": "code",
   "execution_count": 228,
   "metadata": {},
   "outputs": [
    {
     "data": {
      "text/plain": [
       "tensor([[0.5812, 0.3984, 0.4931],\n",
       "        [0.8362, 0.9903, 0.6703],\n",
       "        [0.0138, 0.1097, 0.8951],\n",
       "        [0.7876, 0.1612, 0.1026],\n",
       "        [0.5032, 0.9224, 0.8303]])"
      ]
     },
     "execution_count": 228,
     "metadata": {},
     "output_type": "execute_result"
    }
   ],
   "source": [
    "# Create a random array 5x3 with values.\n",
    "# The seed is different each time this command is executed.\n",
    "x = torch.rand(5,3)\n",
    "x"
   ]
  },
  {
   "cell_type": "code",
   "execution_count": 229,
   "metadata": {},
   "outputs": [
    {
     "name": "stdout",
     "output_type": "stream",
     "text": [
      "tensor([[0, 0, 0],\n",
      "        [0, 0, 0],\n",
      "        [0, 0, 0],\n",
      "        [0, 0, 0],\n",
      "        [0, 0, 0]])\n",
      "tensor([[1., 1., 1.],\n",
      "        [1., 1., 1.],\n",
      "        [1., 1., 1.],\n",
      "        [1., 1., 1.],\n",
      "        [1., 1., 1.]], dtype=torch.float64)\n"
     ]
    }
   ],
   "source": [
    "# Create a tensor filled with zeros.\n",
    "zs = torch.zeros(5,3,dtype=torch.long)\n",
    "os = torch.ones (5,3,dtype=torch.double)\n",
    "print(zs)\n",
    "print(os)"
   ]
  },
  {
   "cell_type": "code",
   "execution_count": 230,
   "metadata": {},
   "outputs": [
    {
     "data": {
      "text/plain": [
       "tensor([5.5000, 3.0000])"
      ]
     },
     "execution_count": 230,
     "metadata": {},
     "output_type": "execute_result"
    }
   ],
   "source": [
    "# Create a tensor filled with explicit data.\n",
    "x = torch.tensor([5.5000,3.0000])\n",
    "x"
   ]
  },
  {
   "cell_type": "code",
   "execution_count": 231,
   "metadata": {},
   "outputs": [
    {
     "name": "stdout",
     "output_type": "stream",
     "text": [
      "torch.Size([2])\n"
     ]
    }
   ],
   "source": [
    "# Get the size of a tensor.\n",
    "print(x.size())"
   ]
  },
  {
   "cell_type": "code",
   "execution_count": 232,
   "metadata": {},
   "outputs": [
    {
     "name": "stdout",
     "output_type": "stream",
     "text": [
      "tensor([[1.8160, 1.5971, 1.9292],\n",
      "        [1.7030, 1.4448, 1.3767],\n",
      "        [1.4316, 1.5978, 1.5195],\n",
      "        [1.4373, 1.7099, 1.8377],\n",
      "        [1.3206, 1.3751, 1.8026]], dtype=torch.float64)\n"
     ]
    }
   ],
   "source": [
    "# Lifted addition\n",
    "rs = torch.rand(5,3)\n",
    "print(rs+os)"
   ]
  },
  {
   "cell_type": "code",
   "execution_count": 233,
   "metadata": {},
   "outputs": [
    {
     "name": "stdout",
     "output_type": "stream",
     "text": [
      "tensor([[1.8160, 1.5971, 1.9292],\n",
      "        [1.7030, 1.4448, 1.3767],\n",
      "        [1.4316, 1.5978, 1.5195],\n",
      "        [1.4373, 1.7099, 1.8377],\n",
      "        [1.3206, 1.3751, 1.8026]])\n"
     ]
    }
   ],
   "source": [
    "# Lifted addition when providing an output tensor as an argument.\n",
    "result = torch.empty(5,3)\n",
    "torch.add(rs,os,out=result)\n",
    "print(result)"
   ]
  },
  {
   "cell_type": "code",
   "execution_count": 234,
   "metadata": {},
   "outputs": [
    {
     "name": "stdout",
     "output_type": "stream",
     "text": [
      "tensor([[1.8160, 1.5971, 1.9292],\n",
      "        [1.7030, 1.4448, 1.3767],\n",
      "        [1.4316, 1.5978, 1.5195],\n",
      "        [1.4373, 1.7099, 1.8377],\n",
      "        [1.3206, 1.3751, 1.8026]], dtype=torch.float64)\n",
      "tensor([[1.8160, 1.5971, 1.9292],\n",
      "        [1.7030, 1.4448, 1.3767],\n",
      "        [1.4316, 1.5978, 1.5195],\n",
      "        [1.4373, 1.7099, 1.8377],\n",
      "        [1.3206, 1.3751, 1.8026]], dtype=torch.float64)\n"
     ]
    }
   ],
   "source": [
    "# Lifted addition in-place.\n",
    "#   Assignment is by-reference, so it updates the bound object.\n",
    "bs = os\n",
    "bs.add_(rs)\n",
    "print(os)\n",
    "print(bs)"
   ]
  },
  {
   "cell_type": "code",
   "execution_count": 235,
   "metadata": {},
   "outputs": [
    {
     "data": {
      "text/plain": [
       "True"
      ]
     },
     "execution_count": 235,
     "metadata": {},
     "output_type": "execute_result"
    }
   ],
   "source": [
    "# Check if CUDA is available.\n",
    "torch.cuda.is_available()"
   ]
  },
  {
   "cell_type": "code",
   "execution_count": 236,
   "metadata": {},
   "outputs": [
    {
     "name": "stdout",
     "output_type": "stream",
     "text": [
      "tensor([[1.8160, 1.2413, 1.5391, 1.2282, 1.8971],\n",
      "        [1.1555, 1.1497, 1.8399, 1.1999, 1.0986],\n",
      "        [1.7422, 1.8401, 1.4053, 1.6501, 1.6021]], device='cuda:0')\n",
      "tensor([[1.8160, 1.2413, 1.5391, 1.2282, 1.8971],\n",
      "        [1.1555, 1.1497, 1.8399, 1.1999, 1.0986],\n",
      "        [1.7422, 1.8401, 1.4053, 1.6501, 1.6021]]) torch.float64\n"
     ]
    }
   ],
   "source": [
    "# Create array on CUDA device.\n",
    "device=torch.device(\"cuda\")\n",
    "x = torch.ones(3,5, device=device)\n",
    "y = torch.rand(3,5, device=device)\n",
    "x = x.to(device)\n",
    "y = y.to(device)\n",
    "z = x + y\n",
    "print(z)\n",
    "\n",
    "# Copy the array to CPU and also cast its type.\n",
    "print(z.to(\"cpu\"), torch.double)"
   ]
  },
  {
   "cell_type": "code",
   "execution_count": 238,
   "metadata": {},
   "outputs": [
    {
     "name": "stdout",
     "output_type": "stream",
     "text": [
      "tensor([[1.4507, 1.8959, 1.3490, 1.3114, 1.5267],\n",
      "        [1.1243, 1.5303, 1.1019, 1.6584, 1.9993],\n",
      "        [1.8611, 1.2774, 1.4553, 1.0312, 1.4290]], device='cuda:1')\n",
      "tensor([[1.4507, 1.8959, 1.3490, 1.3114, 1.5267],\n",
      "        [1.1243, 1.5303, 1.1019, 1.6584, 1.9993],\n",
      "        [1.8611, 1.2774, 1.4553, 1.0312, 1.4290]]) torch.float64\n"
     ]
    }
   ],
   "source": [
    "# Create array on second CUDA device.\n",
    "device=torch.device(\"cuda:1\")\n",
    "x = torch.ones(3,5, device=device)\n",
    "y = torch.rand(3,5, device=device)\n",
    "x = x.to(device)\n",
    "y = y.to(device)\n",
    "z = x + y\n",
    "print(z)\n",
    "\n",
    "print(z.to(\"cpu\"), torch.double)"
   ]
  },
  {
   "cell_type": "code",
   "execution_count": 239,
   "metadata": {},
   "outputs": [],
   "source": [
    "# Automatic Differentiation"
   ]
  },
  {
   "cell_type": "code",
   "execution_count": 240,
   "metadata": {},
   "outputs": [
    {
     "name": "stdout",
     "output_type": "stream",
     "text": [
      "None\n",
      "None\n"
     ]
    }
   ],
   "source": [
    "# Adding requires_grad attaches a gradient buffer to the tensor.\n",
    "# The gradient buffers start out empty.\n",
    "a = torch.tensor([1.0, 2.0], requires_grad=True)\n",
    "w = torch.tensor([3.0, 4.0], requires_grad=True)\n",
    "print(a.grad)\n",
    "print(w.grad)"
   ]
  },
  {
   "cell_type": "code",
   "execution_count": 241,
   "metadata": {},
   "outputs": [
    {
     "name": "stdout",
     "output_type": "stream",
     "text": [
      "tensor(11., grad_fn=<DotBackward>)\n"
     ]
    }
   ],
   "source": [
    "# When we perform tensor operations, the grad_fn field tracks how the result was built.\n",
    "y = torch.dot(a,w)\n",
    "print(y)"
   ]
  },
  {
   "cell_type": "code",
   "execution_count": 242,
   "metadata": {},
   "outputs": [
    {
     "name": "stdout",
     "output_type": "stream",
     "text": [
      "tensor([3., 4.])\n",
      "tensor([1., 2.])\n"
     ]
    }
   ],
   "source": [
    "# Calling backward() on a scalar result pushes a sensitivity of 1\n",
    "# back through the network, and frees the forward buffers along the way.\n",
    "y.backward()\n",
    "print(a.grad)\n",
    "print(w.grad)"
   ]
  },
  {
   "cell_type": "code",
   "execution_count": 243,
   "metadata": {},
   "outputs": [],
   "source": [
    "# backward() is an effectful operation that frees the forward buffers,\n",
    "# so we can't call it again without re-running the forward pass.\n",
    "# The following will fail.\n",
    "#   y.backward()"
   ]
  },
  {
   "cell_type": "code",
   "execution_count": 244,
   "metadata": {},
   "outputs": [
    {
     "name": "stdout",
     "output_type": "stream",
     "text": [
      "None\n",
      "tensor([2., 4.])\n"
     ]
    }
   ],
   "source": [
    "# If we do multiple backwards passes on different subtrees\n",
    "# we can accumulate multiple updates into the weights.\n",
    "a = torch.tensor([1.0, 2.0], requires_grad=False)\n",
    "w = torch.tensor([3.0, 4.0], requires_grad=True)\n",
    "y = torch.dot(a,w)\n",
    "z = torch.dot(a,w)\n",
    "y.backward()\n",
    "z.backward()\n",
    "print(a.grad)\n",
    "print(w.grad)"
   ]
  },
  {
   "cell_type": "code",
   "execution_count": 245,
   "metadata": {},
   "outputs": [
    {
     "name": "stdout",
     "output_type": "stream",
     "text": [
      "tensor([1., 2.])\n"
     ]
    }
   ],
   "source": [
    "# Get a tensor without the gradient information, using detach()\n",
    "ad = a.detach()\n",
    "print(ad)"
   ]
  }
 ],
 "metadata": {
  "kernelspec": {
   "display_name": "Python 3",
   "language": "python",
   "name": "python3"
  },
  "language_info": {
   "codemirror_mode": {
    "name": "ipython",
    "version": 3
   },
   "file_extension": ".py",
   "mimetype": "text/x-python",
   "name": "python",
   "nbconvert_exporter": "python",
   "pygments_lexer": "ipython3",
   "version": "3.7.4"
  }
 },
 "nbformat": 4,
 "nbformat_minor": 4
}
